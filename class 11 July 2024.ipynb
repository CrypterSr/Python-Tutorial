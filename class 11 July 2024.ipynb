{
 "cells": [
  {
   "cell_type": "code",
   "execution_count": null,
   "id": "d31397d7-9c75-4898-9595-244fd456cd59",
   "metadata": {},
   "outputs": [],
   "source": [
    "# check if the number is prime \n",
    "\n",
    "num = int(input(\"Enter the number\")) # 5\n",
    "\n",
    "i = 1\n",
    "co = 0\n",
    "\n",
    "while i <= num:\n",
    "    if num % i == 0:\n",
    "        co = co + 1\n",
    "    i = i + 1\n",
    "\n",
    "\n",
    "if co == 2:\n",
    "    print(num, \"is a Prime number.\")\n",
    "else:\n",
    "    print(num, \"is not a Prime number.\")\n",
    "\n",
    "\n",
    "# explaination of the loop\n",
    "\n",
    "# iteration 1: \n",
    "# i = 1, num = 5, co = 0\n",
    "# 5 % 1 == 0, co = 1\n",
    "# i = 2\n",
    "\n",
    "# iteration 2:\n",
    "# i = 2, num = 5, co = 1\n",
    "# 5 % 2 != 0\n",
    "# i = 3\n",
    "\n",
    "# iteration 3:\n",
    "# i = 3, num = 5, co = 1\n",
    "# 5 % 3 != 0\n",
    "# i = 4\n",
    "\n",
    "# iteration 4:\n",
    "# i = 4, num = 5, co = 1\n",
    "# 5 % 4 != 0\n",
    "# i = 5\n",
    "\n",
    "# iteration 5:\n",
    "# i = 5, num = 5, co = 1\n",
    "# 5 % 5 == 0, co = 2\n",
    "# i = 6\n",
    "\n",
    "# loop ends\n",
    "\n",
    "# co == 2\n",
    "# 5 is a prime number "
   ]
  },
  {
   "cell_type": "code",
   "execution_count": 5,
   "id": "2e1c59f4-d4b0-47d1-8349-da91ea8f6579",
   "metadata": {},
   "outputs": [
    {
     "name": "stdin",
     "output_type": "stream",
     "text": [
      "Enter the number 6\n"
     ]
    },
    {
     "name": "stdout",
     "output_type": "stream",
     "text": [
      "720\n"
     ]
    }
   ],
   "source": [
    "# factorial number \n",
    "\n",
    "num = int(input(\"Enter the number\")) # 6\n",
    "\n",
    "factorial = 1\n",
    "\n",
    "while num > 1:\n",
    "    factorial = factorial * num\n",
    "    num = num - 1\n",
    "\n",
    "print(factorial)\n",
    "\n",
    "\n",
    "# explanation of the loop (if num = 6)\n",
    "\n",
    "# iteration 1\n",
    "# num = 6\n",
    "# factorial = 1 * 6 = 6\n",
    "# num = 6 - 1 = 5\n",
    "\n",
    "# iteration 2\n",
    "# num = 5\n",
    "# factorial = 6 * 5 = 30\n",
    "# num = 5 - 1 = 4\n",
    "\n",
    "# iteration 3\n",
    "# num = 4\n",
    "# factorial = 30 * 4 = 120\n",
    "# num = 4 - 1 = 3\n",
    "\n",
    "# iteration 4\n",
    "# num = 3\n",
    "# factorial = 120 * 3 = 360\n",
    "# num = 3 - 1 = 2\n",
    "\n",
    "# iteration 5\n",
    "# num = 2\n",
    "# factorial = 360 * 2 = 720\n",
    "# num = 2 - 1 = 1\n",
    "\n",
    "# end of loop (num = 1)\n",
    "\n",
    "# factorial = 720"
   ]
  },
  {
   "cell_type": "code",
   "execution_count": 34,
   "id": "631872ec-ffb2-44c9-82e0-714a682cf136",
   "metadata": {},
   "outputs": [
    {
     "data": {
      "text/plain": [
       "24"
      ]
     },
     "execution_count": 34,
     "metadata": {},
     "output_type": "execute_result"
    }
   ],
   "source": [
    "# calculating the factorial using recursion (not part of the course)\n",
    "\n",
    "def factorial(num):\n",
    "    if num == 0:\n",
    "        return 1\n",
    "    return num * factorial(num-1)\n",
    "\n",
    "factorial(4)"
   ]
  },
  {
   "cell_type": "code",
   "execution_count": 7,
   "id": "70eb5190-d91c-4859-be32-e1bef5819366",
   "metadata": {},
   "outputs": [
    {
     "name": "stdin",
     "output_type": "stream",
     "text": [
      "Enter the number  645732\n"
     ]
    },
    {
     "name": "stdout",
     "output_type": "stream",
     "text": [
      "The sum is  27\n"
     ]
    }
   ],
   "source": [
    "# sum of the digits of a number \n",
    "\n",
    "num = int(input(\"Enter the number\")) # 645732\n",
    "\n",
    "sum = 0\n",
    "\n",
    "while num > 0:\n",
    "    rem = num % 10\n",
    "    sum = sum + rem \n",
    "    num = num // 10\n",
    "\n",
    "\n",
    "print(\"The sum is \", sum)\n",
    "\n",
    "\n",
    "# iteration cycle of the while loop\n",
    "\n",
    "# iteration 1: \n",
    "# num = 645732\n",
    "# rem = 645732 % 10 = 2\n",
    "# sum = 0 + 2 = 2\n",
    "# num = 645732 // 10 = 64573\n",
    "\n",
    "# iteration 2:\n",
    "# num = 64573\n",
    "# rem = 64573 % 10 = 3\n",
    "# sum = 2 + 3 = 5\n",
    "# num = 64573 // 10 = 6457\n",
    "\n",
    "# iteration 3:\n",
    "# num = 6457\n",
    "# rem = 6457 % 10 = 7\n",
    "# sum = 5 + 7 = 12\n",
    "# num = 6457 // 10 = 645\n",
    "\n",
    "# iteration 4:\n",
    "# num = 645\n",
    "# rem = 645 % 10 = 5\n",
    "# sum = 12 + 5 = 17\n",
    "# num = 645 // 10 = 64\n",
    "\n",
    "# iteration 5:\n",
    "# num = 64\n",
    "# rem = 64 % 10 = 4\n",
    "# sum = 17 + 4 = 21\n",
    "# num = 64 // 10 = 6\n",
    "\n",
    "# iteration 6:\n",
    "# num = 6\n",
    "# rem = 6 % 10 = 6\n",
    "# sum = 21 + 6 = 27\n",
    "# num = 6 // 10 = 0\n",
    "\n",
    "\n",
    "# exit the loop as num = 0\n",
    "\n",
    "# sum = 27"
   ]
  },
  {
   "cell_type": "code",
   "execution_count": 9,
   "id": "e92ce6c3-3941-41e9-8c67-da181b99f5ef",
   "metadata": {},
   "outputs": [
    {
     "name": "stdin",
     "output_type": "stream",
     "text": [
      "Enter the number 645732\n"
     ]
    },
    {
     "name": "stdout",
     "output_type": "stream",
     "text": [
      "27\n"
     ]
    }
   ],
   "source": [
    "# not in syllabus variation of the above code\n",
    "num = input(\"Enter the number\")\n",
    "\n",
    "\n",
    "sum = 0\n",
    "for i in num:\n",
    "    sum = sum + int(i)\n",
    "\n",
    "print(sum)"
   ]
  },
  {
   "cell_type": "code",
   "execution_count": 46,
   "id": "ef1cddd9-e3a6-474c-b656-f9c5ff07637e",
   "metadata": {},
   "outputs": [
    {
     "name": "stdin",
     "output_type": "stream",
     "text": [
      "Enter the number 456\n"
     ]
    },
    {
     "name": "stdout",
     "output_type": "stream",
     "text": [
      "the reverse is  654\n"
     ]
    }
   ],
   "source": [
    "# reverse of a number\n",
    "\n",
    "num = int(input(\"Enter the number\")) # 674853\n",
    "\n",
    "rev = 0\n",
    "\n",
    "while num > 0:\n",
    "    rem = num % 10\n",
    "    rev = rev * 10 + rem\n",
    "    num = num // 10\n",
    "\n",
    "\n",
    "print(\"the reverse is\", rev)\n",
    "\n",
    "\n",
    "# iteration cycle of the while loop\n",
    "\n",
    "# 1st iteration\n",
    "# num = 674853\n",
    "# rem = num % 10 = 3\n",
    "# rev = 0 * 10 + 3 = 3\n",
    "# num = num // 10 = 67485\n",
    "\n",
    "# 2nd iteration\n",
    "# num = 67485\n",
    "# rem = num % 10 = 5\n",
    "# rev = 3 * 10 + 5 = 35\n",
    "# num = num // 10 = 6748\n",
    "\n",
    "# 3rd iteration\n",
    "# num = 6748\n",
    "# rem = num % 10 = 8\n",
    "# rev = 35 * 10 + 8 = 358\n",
    "# num = num // 10 = 674\n",
    "\n",
    "# 4th iteration\n",
    "# num = 674\n",
    "# rem = num % 10 = 4\n",
    "# rev = 358 * 10 + 4 = 3584\n",
    "# num = num // 10 = 67\n",
    "\n",
    "# 5th iteration\n",
    "# num = 67\n",
    "# rem = num % 10 = 7\n",
    "# rev = 3584 * 10 + 7 = 35847\n",
    "# num = num // 10 = 6\n",
    "\n",
    "# 6th iteration\n",
    "# num = 6\n",
    "# rem = num % 10 = 6\n",
    "# rev = 35847 * 10 + 6 = 358476\n",
    "# num = num // 10 = 0\n",
    "\n",
    "# loop ends as num = 0\n",
    "\n",
    "# the reverse is 358476\n"
   ]
  },
  {
   "cell_type": "code",
   "execution_count": 54,
   "id": "c0160714-b42a-4b6f-bb8f-0a6ce06a3150",
   "metadata": {},
   "outputs": [
    {
     "name": "stdin",
     "output_type": "stream",
     "text": [
      "Enter the number 666\n"
     ]
    },
    {
     "name": "stdout",
     "output_type": "stream",
     "text": [
      "666 is a palindrome\n"
     ]
    }
   ],
   "source": [
    "# check if number is palindrome\n",
    "\n",
    "num = int(input(\"Enter the number\"))\n",
    "\n",
    "tempNum = num\n",
    "rev = 0\n",
    "\n",
    "while num > 0:\n",
    "    rem = num % 10\n",
    "    rev = rev * 10 + rem\n",
    "    num = num // 10\n",
    "\n",
    "\n",
    "if tempNum == rev:\n",
    "    print(tempNum, \"is a palindrome\")\n",
    "else:\n",
    "    print(tempNum, \"is not a palindrome\")\n",
    "\n",
    "# iteration cycle of the while loop\n",
    "# works same as the above program"
   ]
  },
  {
   "cell_type": "code",
   "execution_count": 66,
   "id": "1618896e-0a1c-4716-ad34-5001b136f720",
   "metadata": {},
   "outputs": [
    {
     "name": "stdin",
     "output_type": "stream",
     "text": [
      "Enter the number 1634\n"
     ]
    },
    {
     "name": "stdout",
     "output_type": "stream",
     "text": [
      "1634 is a Armstrong Number\n"
     ]
    }
   ],
   "source": [
    "# check if number is palindrome\n",
    "\n",
    "num = int(input(\"Enter the number\")) # 153\n",
    "\n",
    "tempNum = num\n",
    "lenNum = len(str(num))\n",
    "result = 0\n",
    "\n",
    "while num > 0:\n",
    "    rem = num % 10\n",
    "    result = result + (rem ** lenNum)\n",
    "    num = num // 10\n",
    "\n",
    "\n",
    "if tempNum == result:\n",
    "    print(tempNum, \"is a Armstrong Number\")\n",
    "else:\n",
    "    print(tempNum, \"is not a Armstrong Number\")\n",
    "\n",
    "# iteration cycle of the while loop\n",
    "\n",
    "# 1st iteration\n",
    "# num = 153\n",
    "# rem = 153 % 10 = 3\n",
    "# result = 0 + 3 ** 3 = 27\n",
    "# num = 153 // 10 = 15\n",
    "\n",
    "# 2nd iteration\n",
    "# num = 15\n",
    "# rem = 15 % 10 = 5\n",
    "# result = 27 + 5 ** 3 = 152\n",
    "# num = 15 // 10 = 1\n",
    "\n",
    "# 3rd iteration\n",
    "# num = 1\n",
    "# rem = 1 % 10 = 1\n",
    "# result = 152 + 1 ** 3 = 153\n",
    "# num = 1 // 10 = 0\n",
    "\n",
    "# end of the loop\n",
    "# tempNum = 153\n",
    "# result = 153\n",
    "# 153 == 153\n",
    "# 153 is a Armstrong Number\n",
    "\n",
    "    "
   ]
  },
  {
   "cell_type": "code",
   "execution_count": 11,
   "id": "66320212-f9f9-4826-9e83-bf41e3c09f4f",
   "metadata": {},
   "outputs": [
    {
     "name": "stdout",
     "output_type": "stream",
     "text": [
      "t\n",
      "h\n",
      "i\n",
      "r\n",
      "u\n",
      "v\n",
      "a\n",
      "n\n",
      "a\n",
      "n\n",
      "t\n",
      "h\n",
      "a\n",
      "p\n",
      "u\n",
      "r\n",
      "a\n",
      "m\n"
     ]
    }
   ],
   "source": [
    "for i in \"thiruvananthapuram\": \n",
    "    print(i)\n"
   ]
  },
  {
   "cell_type": "code",
   "execution_count": 13,
   "id": "c34433db-a4b0-4a8f-9b31-f9c7cb58142a",
   "metadata": {},
   "outputs": [
    {
     "name": "stdout",
     "output_type": "stream",
     "text": [
      "1\n",
      "2\n",
      "3\n",
      "4\n"
     ]
    }
   ],
   "source": [
    "for i in {1:1, 2:4, 3:9, 4:19}:\n",
    "    print(i)\n"
   ]
  }
 ],
 "metadata": {
  "kernelspec": {
   "display_name": "Python 3 (ipykernel)",
   "language": "python",
   "name": "python3"
  },
  "language_info": {
   "codemirror_mode": {
    "name": "ipython",
    "version": 3
   },
   "file_extension": ".py",
   "mimetype": "text/x-python",
   "name": "python",
   "nbconvert_exporter": "python",
   "pygments_lexer": "ipython3",
   "version": "3.12.4"
  }
 },
 "nbformat": 4,
 "nbformat_minor": 5
}
