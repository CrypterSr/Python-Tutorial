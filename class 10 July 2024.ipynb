{
 "cells": [
  {
   "cell_type": "code",
   "execution_count": 17,
   "id": "9e139103-6fdd-4e08-a964-651f700e1224",
   "metadata": {},
   "outputs": [
    {
     "name": "stdin",
     "output_type": "stream",
     "text": [
      "Enter your name:  Sahil\n"
     ]
    },
    {
     "name": "stdout",
     "output_type": "stream",
     "text": [
      "Sahil\n",
      "Sahil\n",
      "Sahil\n",
      "Sahil\n",
      "Sahil\n",
      "Sahil\n",
      "Sahil\n",
      "Sahil\n",
      "Sahil\n",
      "Sahil\n"
     ]
    }
   ],
   "source": [
    "name = input(\"Enter your name: \")\n",
    "\n",
    "i = 1\n",
    "while i <= 10:\n",
    "    print(name)\n",
    "    i = i + 1"
   ]
  },
  {
   "cell_type": "code",
   "execution_count": 19,
   "id": "e93089d3-04e0-4fd2-992a-af48981b8ede",
   "metadata": {},
   "outputs": [
    {
     "name": "stdin",
     "output_type": "stream",
     "text": [
      "Enter the number of first natural numbers you want to print 10\n"
     ]
    },
    {
     "name": "stdout",
     "output_type": "stream",
     "text": [
      "1\n",
      "2\n",
      "3\n",
      "4\n",
      "5\n",
      "6\n",
      "7\n",
      "8\n",
      "9\n",
      "10\n"
     ]
    }
   ],
   "source": [
    "limit = int(input(\"Enter the number of first natural numbers you want to print\"))\n",
    "\n",
    "i = 1\n",
    "\n",
    "while i <= 10:\n",
    "    print(i)\n",
    "    i = i + 1"
   ]
  },
  {
   "cell_type": "code",
   "execution_count": 23,
   "id": "09507837-2239-4c7d-a6dc-6b89395ef6c9",
   "metadata": {},
   "outputs": [
    {
     "name": "stdin",
     "output_type": "stream",
     "text": [
      "Enter the number of first natural numbers you want to print 10\n"
     ]
    },
    {
     "name": "stdout",
     "output_type": "stream",
     "text": [
      "1\n",
      "2\n",
      "3\n",
      "4\n",
      "5\n",
      "6\n",
      "7\n",
      "8\n",
      "9\n",
      "10\n"
     ]
    }
   ],
   "source": [
    "# same program as above but the values are seperated by spaces, (concept covered: changing the value of print function end argument)\n",
    "\n",
    "limit = int(input(\"Enter the number of first natural numbers you want to print\"))\n",
    "\n",
    "i = 1\n",
    "\n",
    "while i <= 10:\n",
    "    print(i, end=\" \")\n",
    "    i = i + 1"
   ]
  },
  {
   "cell_type": "code",
   "execution_count": 37,
   "id": "c4b046b4-38e5-4e24-9133-568e2eed5381",
   "metadata": {},
   "outputs": [
    {
     "name": "stdin",
     "output_type": "stream",
     "text": [
      "sum of first natural numbers:  100\n"
     ]
    },
    {
     "name": "stdout",
     "output_type": "stream",
     "text": [
      "The sum is 5050\n"
     ]
    }
   ],
   "source": [
    "limit = int(input(\"sum of first natural numbers: \"))\n",
    "\n",
    "i = 1\n",
    "sum = 0\n",
    "while i <= limit:\n",
    "    sum += i\n",
    "    i = i + 1\n",
    "\n",
    "print(\"The sum is\", sum)"
   ]
  },
  {
   "cell_type": "code",
   "execution_count": 43,
   "id": "f9a578e5-89ec-46d1-9886-b40c0a7638b2",
   "metadata": {},
   "outputs": [
    {
     "name": "stdin",
     "output_type": "stream",
     "text": [
      "Start of the range:  50\n",
      "End of the range:  100\n"
     ]
    },
    {
     "name": "stdout",
     "output_type": "stream",
     "text": [
      "50 52 54 56 58 60 62 64 66 68 70 72 74 76 78 80 82 84 86 88 90 92 94 96 98 100 "
     ]
    }
   ],
   "source": [
    "# printing even number between certain range\n",
    "\n",
    "startRange = int(input(\"Start of the range: \"))\n",
    "endRange = int(input(\"End of the range: \"))\n",
    "\n",
    "i = startRange\n",
    "\n",
    "while i <= endRange:\n",
    "    if i % 2 == 0:\n",
    "        print(i, end=\" \")\n",
    "    i = i + 1"
   ]
  },
  {
   "cell_type": "code",
   "execution_count": 45,
   "id": "f974b3d6-638f-43c3-9258-d53928d2fc78",
   "metadata": {},
   "outputs": [
    {
     "name": "stdin",
     "output_type": "stream",
     "text": [
      "Start of the range:  2\n",
      "End of the range:  100\n"
     ]
    },
    {
     "name": "stdout",
     "output_type": "stream",
     "text": [
      "3 5 7 9 11 13 15 17 19 21 23 25 27 29 31 33 35 37 39 41 43 45 47 49 51 53 55 57 59 61 63 65 67 69 71 73 75 77 79 81 83 85 87 89 91 93 95 97 99 "
     ]
    }
   ],
   "source": [
    "# printing odd number between certain range\n",
    "\n",
    "startRange = int(input(\"Start of the range: \"))\n",
    "endRange = int(input(\"End of the range: \"))\n",
    "\n",
    "i = startRange\n",
    "\n",
    "while i <= endRange:\n",
    "    if i % 2 != 0:\n",
    "        print(i, end=\" \")\n",
    "    i = i + 1"
   ]
  },
  {
   "cell_type": "code",
   "execution_count": 1,
   "id": "847f5d2e-6bf8-4ed8-b357-f3c487eb485a",
   "metadata": {},
   "outputs": [
    {
     "name": "stdin",
     "output_type": "stream",
     "text": [
      "Start of the range:  221\n",
      "End of the range:  33\n"
     ]
    },
    {
     "name": "stdout",
     "output_type": "stream",
     "text": [
      "Sum of even numbers:  0\n",
      "Sum of odd numbers:  0\n"
     ]
    }
   ],
   "source": [
    "# Finding the sum of even and odd numbers between certain ranges \n",
    "\n",
    "startRange = int(input(\"Start of the range: \"))\n",
    "endRange = int(input(\"End of the range: \"))\n",
    "\n",
    "i = startRange\n",
    "sumEven = 0\n",
    "sumOdd = 0\n",
    "while i <= endRange:\n",
    "    if i % 2 == 0:\n",
    "        sumEven = sumEven + i\n",
    "    else:\n",
    "        sumOdd = sumOdd + i\n",
    "    i = i + 1\n",
    "\n",
    "print(\"Sum of even numbers: \", sumEven)\n",
    "print(\"Sum of odd numbers: \", sumOdd)\n"
   ]
  },
  {
   "cell_type": "code",
   "execution_count": 54,
   "id": "25b737c4-d81e-480c-8f6b-eca10ca5ce10",
   "metadata": {},
   "outputs": [
    {
     "name": "stdin",
     "output_type": "stream",
     "text": [
      "Enter the number:  5\n"
     ]
    },
    {
     "name": "stdout",
     "output_type": "stream",
     "text": [
      "5 x 1 = 5\n",
      "5 x 2 = 10\n",
      "5 x 3 = 15\n",
      "5 x 4 = 20\n",
      "5 x 5 = 25\n",
      "5 x 6 = 30\n",
      "5 x 7 = 35\n",
      "5 x 8 = 40\n",
      "5 x 9 = 45\n",
      "5 x 10 = 50\n"
     ]
    }
   ],
   "source": [
    "# print a table with full format\n",
    "\n",
    "num = int(input(\"Enter the number: \"))\n",
    "\n",
    "while i <= 10:\n",
    "    print(num, \"x\", i, \"=\", num * i)\n",
    "    i = i + 1"
   ]
  },
  {
   "cell_type": "code",
   "execution_count": 78,
   "id": "f669d7ba-b3bc-4f35-a563-17942bfb456d",
   "metadata": {},
   "outputs": [
    {
     "name": "stdin",
     "output_type": "stream",
     "text": [
      "Enter the number:  1000000\n"
     ]
    },
    {
     "name": "stdout",
     "output_type": "stream",
     "text": [
      "Factors are:\n",
      "1\n",
      "2\n",
      "4\n",
      "5\n",
      "8\n",
      "10\n",
      "16\n",
      "20\n",
      "25\n",
      "32\n",
      "40\n",
      "50\n",
      "64\n",
      "80\n",
      "100\n",
      "125\n",
      "160\n",
      "200\n",
      "250\n",
      "320\n",
      "400\n",
      "500\n",
      "625\n",
      "800\n",
      "1000\n",
      "1250\n",
      "1600\n",
      "2000\n",
      "2500\n",
      "3125\n",
      "4000\n",
      "5000\n",
      "6250\n",
      "8000\n",
      "10000\n",
      "12500\n",
      "15625\n",
      "20000\n",
      "25000\n",
      "31250\n",
      "40000\n",
      "50000\n",
      "62500\n",
      "100000\n",
      "125000\n",
      "200000\n",
      "250000\n",
      "500000\n",
      "1000000\n"
     ]
    }
   ],
   "source": [
    "# factors of a number \n",
    "\n",
    "num = int(input(\"Enter the number: \"))\n",
    "\n",
    "i = 1\n",
    "\n",
    "print(\"Factors are:\")\n",
    "while i <= num:\n",
    "    if num % i == 0: \n",
    "        print(i)\n",
    "    i = i + 1\n"
   ]
  },
  {
   "cell_type": "code",
   "execution_count": 66,
   "id": "40bab4cb-a403-4cd2-87a0-6ce63d37950e",
   "metadata": {},
   "outputs": [
    {
     "name": "stdin",
     "output_type": "stream",
     "text": [
      "Enter the number:  88\n"
     ]
    },
    {
     "name": "stdout",
     "output_type": "stream",
     "text": [
      "Number of the factors of 88 is 8\n"
     ]
    }
   ],
   "source": [
    "#numbers of factors of a number \n",
    "\n",
    "num = int(input(\"Enter the number: \"))\n",
    "\n",
    "i = 1\n",
    "numOfFactors = 0\n",
    "\n",
    "while i <= num:\n",
    "    if num % i == 0: \n",
    "        numOfFactors = numOfFactors + 1\n",
    "    i = i + 1\n",
    "\n",
    "print(\"Number of the factors of\", num, \"is\", numOfFactors)"
   ]
  },
  {
   "cell_type": "code",
   "execution_count": null,
   "id": "8114142d-92b2-47d2-bbe8-c9f7fa64628a",
   "metadata": {},
   "outputs": [],
   "source": []
  }
 ],
 "metadata": {
  "kernelspec": {
   "display_name": "Python 3 (ipykernel)",
   "language": "python",
   "name": "python3"
  },
  "language_info": {
   "codemirror_mode": {
    "name": "ipython",
    "version": 3
   },
   "file_extension": ".py",
   "mimetype": "text/x-python",
   "name": "python",
   "nbconvert_exporter": "python",
   "pygments_lexer": "ipython3",
   "version": "3.12.4"
  }
 },
 "nbformat": 4,
 "nbformat_minor": 5
}
