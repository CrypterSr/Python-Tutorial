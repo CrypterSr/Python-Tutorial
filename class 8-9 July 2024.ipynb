{
 "cells": [
  {
   "cell_type": "code",
   "execution_count": 9,
   "id": "bfa491b8-3923-4c1a-85f8-d879df306f51",
   "metadata": {},
   "outputs": [
    {
     "name": "stdin",
     "output_type": "stream",
     "text": [
      " 2012\n"
     ]
    },
    {
     "name": "stdout",
     "output_type": "stream",
     "text": [
      "2012 is a leap year.\n"
     ]
    }
   ],
   "source": [
    "year = int(input(\"Enter the year\"))\n",
    "\n",
    "if year % 4 == 0:\n",
    "    print(year, \"is a leap year.\")\n",
    "else:\n",
    "    print(year, \"is not a leap year.\")"
   ]
  },
  {
   "cell_type": "code",
   "execution_count": 13,
   "id": "43d85c35-abd3-423c-8966-92a066ad193d",
   "metadata": {},
   "outputs": [
    {
     "name": "stdin",
     "output_type": "stream",
     "text": [
      "Enter the age:  17\n"
     ]
    },
    {
     "name": "stdout",
     "output_type": "stream",
     "text": [
      "Not Eligible to vote\n"
     ]
    }
   ],
   "source": [
    "age = int(input(\"Enter the age: \"))\n",
    "\n",
    "if age >= 18: \n",
    "    print(\"Eligible to vote\")\n",
    "else:\n",
    "    print(\"Not Eligible to vote\")"
   ]
  },
  {
   "cell_type": "code",
   "execution_count": 27,
   "id": "f6e734ac-e8bf-46dd-a4e1-c15c4a88f9c0",
   "metadata": {},
   "outputs": [
    {
     "name": "stdin",
     "output_type": "stream",
     "text": [
      "Enter the number from 1--7:  1\n"
     ]
    },
    {
     "name": "stdout",
     "output_type": "stream",
     "text": [
      "Sun\n"
     ]
    }
   ],
   "source": [
    "day = int(input(\"Enter the number from 1--7: \"))\n",
    "if day==1:\n",
    "    print(\"Sun\")\n",
    "elif day==2:\n",
    "    print(\"Mon\")\n",
    "elif day==3:\n",
    "    print(\"Tue\")\n",
    "elif day==4:\n",
    "    print(\"Wed\")\n",
    "elif day==5:\n",
    "    print(\"Thu\")\n",
    "elif day==6:\n",
    "    print(\"Fri\")\n",
    "elif day==7:\n",
    "    print(\"Sat\")\n",
    "else:\n",
    "    print(\"Invalid Input!!\")"
   ]
  },
  {
   "cell_type": "code",
   "execution_count": 27,
   "id": "0153816f-c783-4a72-849a-ba6569d716a3",
   "metadata": {},
   "outputs": [
    {
     "name": "stdin",
     "output_type": "stream",
     "text": [
      "Enter the marks:  50\n",
      "Enter the marks:  50\n",
      "Enter the marks:  50\n",
      "Enter the marks:  50\n",
      "Enter the marks:  50\n"
     ]
    },
    {
     "name": "stdout",
     "output_type": "stream",
     "text": [
      "250.0 50.0\n",
      "Second Division\n"
     ]
    }
   ],
   "source": [
    "p = float(input(\"Enter the marks: \"))\n",
    "c = float(input(\"Enter the marks: \"))\n",
    "m = float(input(\"Enter the marks: \"))\n",
    "e = float(input(\"Enter the marks: \"))\n",
    "h = float(input(\"Enter the marks: \"))\n",
    "\n",
    "s = p + c + m + e + h\n",
    "per = s * 100 / 500\n",
    "\n",
    "\n",
    "if per >= 60:\n",
    "    print(\"First Division\")\n",
    "elif per >= 45:\n",
    "    print(\"Second Division\")\n",
    "elif per >= 33:\n",
    "    print(\"Third Division\")\n",
    "else:\n",
    "    print(\"Failed!!!\")"
   ]
  },
  {
   "cell_type": "code",
   "execution_count": 31,
   "id": "d2bfd7d0-03a7-4724-b650-9ce384ba835b",
   "metadata": {},
   "outputs": [
    {
     "name": "stdin",
     "output_type": "stream",
     "text": [
      "Enter the number:  4\n",
      "Enter the number:  3\n",
      "Enter the number:  2\n"
     ]
    },
    {
     "name": "stdout",
     "output_type": "stream",
     "text": [
      "4 is greatest\n"
     ]
    }
   ],
   "source": [
    "a = int(input(\"Enter the number: \"))\n",
    "b = int(input(\"Enter the number: \"))\n",
    "c = int(input(\"Enter the number: \"))\n",
    "\n",
    "if a > b and a > c:\n",
    "    print(a, \"is greatest\")\n",
    "elif b > a and b > c:\n",
    "    print(b, \"is greatest\")\n",
    "else: \n",
    "    print(c, \"is greatest\")"
   ]
  },
  {
   "cell_type": "code",
   "execution_count": 41,
   "id": "4a40c4f2-56d9-450d-a52a-1f2a120c7eb2",
   "metadata": {},
   "outputs": [
    {
     "name": "stdin",
     "output_type": "stream",
     "text": [
      "Enter a letter of the Alphabet u\n"
     ]
    },
    {
     "name": "stdout",
     "output_type": "stream",
     "text": [
      "Vowel\n"
     ]
    }
   ],
   "source": [
    "ch = input(\"Enter a letter of the Alphabet\")\n",
    "\n",
    "if ch=='a' or ch=='e' or ch=='i' or ch=='o' or ch=='u':\n",
    "    print(\"Vowel\")\n",
    "elif ch=='A' or ch=='E' or ch=='I' or ch=='O' or ch=='U':\n",
    "    print(\"Vowel\")\n",
    "else:\n",
    "    print(\"Consonant\")"
   ]
  },
  {
   "cell_type": "code",
   "execution_count": 49,
   "id": "771a592b-6f6e-42e0-a6e9-082741922c8a",
   "metadata": {},
   "outputs": [
    {
     "name": "stdin",
     "output_type": "stream",
     "text": [
      "Enter a letter of the Alphabet z\n"
     ]
    },
    {
     "name": "stdout",
     "output_type": "stream",
     "text": [
      "Consonant\n"
     ]
    }
   ],
   "source": [
    "ch = input(\"Enter a letter of the Alphabet\")\n",
    "\n",
    "if ch in ['a', 'A', 'e', 'E', 'i', 'I', 'o', 'O', 'u', 'U']:\n",
    "    print(\"Vowel\")\n",
    "else:\n",
    "    print(\"Consonant\")"
   ]
  },
  {
   "cell_type": "code",
   "execution_count": 57,
   "id": "ef828a41-01cb-4904-8e6f-54afb1a05138",
   "metadata": {},
   "outputs": [
    {
     "name": "stdin",
     "output_type": "stream",
     "text": [
      "Enter color code like \n",
      " r for Red \n",
      " g for Green \n",
      " y for Yellow \n",
      " => y\n"
     ]
    },
    {
     "name": "stdout",
     "output_type": "stream",
     "text": [
      "Get Ready\n"
     ]
    }
   ],
   "source": [
    "ch = input(\"Enter color code like \\n r for Red \\n g for Green \\n y for Yellow \\n =>\")\n",
    "\n",
    "if ch == 'r' or ch == \"R\":\n",
    "    print(\"STOP\")\n",
    "elif ch == 'y' or ch == \"Y\":\n",
    "    print(\"Get Ready\")\n",
    "elif ch == 'g' or ch == \"G\":\n",
    "    print(\"Move Forward\")\n",
    "else:\n",
    "    print(\"Pay chalaan\")\n",
    "\n"
   ]
  },
  {
   "cell_type": "code",
   "execution_count": 65,
   "id": "ca7c69cc-dda9-4033-83da-c371df33f8f6",
   "metadata": {},
   "outputs": [
    {
     "name": "stdin",
     "output_type": "stream",
     "text": [
      "Enter color code like \n",
      " r for Red \n",
      " g for Green \n",
      " y for Yellow \n",
      " => G\n"
     ]
    },
    {
     "name": "stdout",
     "output_type": "stream",
     "text": [
      "Move Forward\n"
     ]
    }
   ],
   "source": [
    "ch = input(\"Enter color code like \\n r for Red \\n g for Green \\n y for Yellow \\n =>\")\n",
    "\n",
    "if ch in ['r', 'R']:\n",
    "    print(\"STOP\")\n",
    "elif ch in ['y', 'Y']:\n",
    "    print(\"Get Ready\")\n",
    "elif ch in ['g', 'G']:\n",
    "    print(\"Move Forward\")\n",
    "else:\n",
    "    print(\"Pay chalaan\")\n"
   ]
  },
  {
   "cell_type": "code",
   "execution_count": 7,
   "id": "ec086122-4f7e-4597-b71d-381ca4cfb0a6",
   "metadata": {},
   "outputs": [
    {
     "name": "stdin",
     "output_type": "stream",
     "text": [
      "Enter a number:  78\n",
      "Enter a number:  22\n"
     ]
    },
    {
     "name": "stdout",
     "output_type": "stream",
     "text": [
      "1.ADD\n",
      "2.SUB\n",
      "1.MUL\n",
      "1.DIV\n"
     ]
    },
    {
     "name": "stdin",
     "output_type": "stream",
     "text": [
      "Enter the choice from above 1\n"
     ]
    },
    {
     "name": "stdout",
     "output_type": "stream",
     "text": [
      "The sum is 100\n"
     ]
    }
   ],
   "source": [
    "# 9 july 2024\n",
    "\n",
    "# Mini Calculator \n",
    "a = int(input(\"Enter a number: \"))\n",
    "b = int(input(\"Enter a number: \"))\n",
    "\n",
    "print(\"1.ADD\")\n",
    "print(\"2.SUB\")\n",
    "print(\"1.MUL\")\n",
    "print(\"1.DIV\")\n",
    "\n",
    "choice = int(input(\"Enter the choice from above\"))\n",
    "\n",
    "if choice == 1:\n",
    "    print(\"The sum is\", a + b)\n",
    "elif choice == 2:\n",
    "    print(\"The substration is\", a - b)\n",
    "elif choice == 3:\n",
    "    print(\"The product is\", a * b)\n",
    "elif choice == 4:\n",
    "    print(\"The division is\", a / b)\n",
    "else:\n",
    "    print(\"The operation is not valid!!!\")"
   ]
  },
  {
   "cell_type": "code",
   "execution_count": 13,
   "id": "838e61a5-19f3-437a-b931-8175a49c3d8d",
   "metadata": {},
   "outputs": [
    {
     "name": "stdin",
     "output_type": "stream",
     "text": [
      "Enter the number 56\n",
      "Enter the number 76\n",
      "Enter the number 45\n"
     ]
    },
    {
     "name": "stdout",
     "output_type": "stream",
     "text": [
      "76 is the greatest\n"
     ]
    }
   ],
   "source": [
    "# greatest among three number\n",
    "\n",
    "a=int(input(\"Enter the number\"))\n",
    "b=int(input(\"Enter the number\"))\n",
    "c=int(input(\"Enter the number\"))\n",
    "\n",
    "if a > b:\n",
    "    if a > c:\n",
    "        print(a, \"is the greatest\")\n",
    "    else:\n",
    "        print(c, \"is the greatest\")\n",
    "else:\n",
    "    if b > c:\n",
    "        print(b, \"is the greatest\")\n",
    "    else:\n",
    "        print(c, \"is the greatest\")\n",
    "    "
   ]
  },
  {
   "cell_type": "code",
   "execution_count": 21,
   "id": "a7a69db6-cfc8-4c22-812d-99f7db68d349",
   "metadata": {},
   "outputs": [
    {
     "name": "stdin",
     "output_type": "stream",
     "text": [
      "Enter the unit 123\n"
     ]
    },
    {
     "name": "stdout",
     "output_type": "stream",
     "text": [
      "Amount to Pay:  115\n"
     ]
    }
   ],
   "source": [
    "amount = 0\n",
    "units = int(input(\"Enter the unit\"))\n",
    "\n",
    "if units <= 100:\n",
    "    amount = 0\n",
    "if units > 100:\n",
    "    amount = (units - 100) * 5\n",
    "if units > 200:\n",
    "    amount = 0 + 500 + ((units - 200) * 10)\n",
    "\n",
    "print(\"Amount to Pay: \", amount)"
   ]
  },
  {
   "cell_type": "code",
   "execution_count": 23,
   "id": "84c8b0bb-1a72-488e-b8b0-9feaca3cf127",
   "metadata": {},
   "outputs": [
    {
     "name": "stdin",
     "output_type": "stream",
     "text": [
      "Enter a number -2\n"
     ]
    },
    {
     "name": "stdout",
     "output_type": "stream",
     "text": [
      "2\n"
     ]
    }
   ],
   "source": [
    "number = int(input(\"Enter a number\"))\n",
    "if number < 0:\n",
    "    print(number*-1)\n",
    "'else:\n",
    "    print(number)"
   ]
  },
  {
   "cell_type": "code",
   "execution_count": 25,
   "id": "204f7830-7074-4598-908c-199d9ff7f7a6",
   "metadata": {},
   "outputs": [
    {
     "name": "stdin",
     "output_type": "stream",
     "text": [
      "Enter a number -9\n"
     ]
    },
    {
     "name": "stdout",
     "output_type": "stream",
     "text": [
      "9\n"
     ]
    }
   ],
   "source": [
    "number = abs(int(input(\"Enter a number\")))\n",
    "print(number)"
   ]
  },
  {
   "cell_type": "code",
   "execution_count": 33,
   "id": "3e3c3533-56ff-4c97-9784-a7c87dcfc9c4",
   "metadata": {},
   "outputs": [
    {
     "name": "stdin",
     "output_type": "stream",
     "text": [
      "Enter length 4\n",
      "Enter length 4\n"
     ]
    },
    {
     "name": "stdout",
     "output_type": "stream",
     "text": [
      "Yes, it is square\n",
      "the area of square is 16\n"
     ]
    }
   ],
   "source": [
    "length = int(input(\"Enter length\"))\n",
    "breadth = int(input(\"Enter length\"))\n",
    "\n",
    "if length == breadth:\n",
    "    print(\"Yes, it is square\")\n",
    "    print(\"the area of square is\", length ** 2)\n",
    "else:\n",
    "    print(\"No, it is only a Rectangle\")\n",
    "    print(\"the area of rectangle is\", length * breadth)"
   ]
  },
  {
   "cell_type": "code",
   "execution_count": null,
   "id": "38ad737e-e666-4628-a38a-07357b00b6de",
   "metadata": {},
   "outputs": [],
   "source": []
  }
 ],
 "metadata": {
  "kernelspec": {
   "display_name": "Python 3 (ipykernel)",
   "language": "python",
   "name": "python3"
  },
  "language_info": {
   "codemirror_mode": {
    "name": "ipython",
    "version": 3
   },
   "file_extension": ".py",
   "mimetype": "text/x-python",
   "name": "python",
   "nbconvert_exporter": "python",
   "pygments_lexer": "ipython3",
   "version": "3.12.4"
  }
 },
 "nbformat": 4,
 "nbformat_minor": 5
}
