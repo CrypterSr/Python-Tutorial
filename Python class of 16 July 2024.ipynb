{
 "cells": [
  {
   "cell_type": "code",
   "execution_count": 1,
   "id": "e15d0c4a-75d7-43d8-a051-c64f88fececf",
   "metadata": {},
   "outputs": [
    {
     "name": "stdout",
     "output_type": "stream",
     "text": [
      "[12, 23, 34, 45, 56]\n",
      "['a', 'b', 'c', 'd', 'e']\n",
      "[12.34, 56.76]\n",
      "[12, 23, 34, 65.56, 'hello']\n"
     ]
    }
   ],
   "source": [
    "# List\n",
    "# -----\n",
    "# sequenced data structure\n",
    "# Heteregenous data structure, can store any kind of data\n",
    "# Ordered or indexed data structure\n",
    "# Mutable data structure\n",
    "# Syntax: enclosed in square brackets [] and elements are separated by comma\n",
    "\n",
    "ls = [12, 23, 34, 45, 56] # list of integers\n",
    "print(ls)\n",
    "ls = ['a', 'b', 'c', 'd', 'e'] # list of characters\n",
    "print(ls)\n",
    "ls = [12.34, 56.76] # list of float\n",
    "print(ls)\n",
    "ls = [12, 23, 34, 65.56, \"hello\"] # list of mixed data type\n",
    "print(ls)\n",
    "\n"
   ]
  },
  {
   "cell_type": "code",
   "execution_count": 9,
   "id": "31b16ce7-15d9-42c1-a52e-eba90c52b213",
   "metadata": {},
   "outputs": [
    {
     "name": "stdout",
     "output_type": "stream",
     "text": [
      "['h', 'e', 'l', 'l', 'o']\n",
      "[12, 23, 3, 4]\n"
     ]
    }
   ],
   "source": [
    "# by using list constructor \n",
    "\n",
    "ls = list(\"hello\")\n",
    "print(ls)\n",
    "ls = list((12, 23, 3, 4))\n",
    "print(ls)"
   ]
  },
  {
   "cell_type": "code",
   "execution_count": 11,
   "id": "77ac01ea-8931-4dd2-924d-49f673ce74a1",
   "metadata": {},
   "outputs": [
    {
     "name": "stdout",
     "output_type": "stream",
     "text": [
      "11\n",
      "44\n",
      "77\n"
     ]
    }
   ],
   "source": [
    "# Accessing of List Elements \n",
    "# --------------------------\n",
    "\n",
    "ls = [11, 22, 33, 44, 55, 66, 77, 88, 99]\n",
    "print(ls[0]) \n",
    "print(ls[3])\n",
    "\n",
    "# when we move from left to right, the index starts from 0\n",
    "# when we move from right to left, the index starts from -1\n",
    "\n",
    "print(ls[-3]) \n"
   ]
  },
  {
   "cell_type": "code",
   "execution_count": 23,
   "id": "14657d06-1742-4362-8251-bafc59b2dc14",
   "metadata": {},
   "outputs": [
    {
     "name": "stdout",
     "output_type": "stream",
     "text": [
      "45\n",
      "[67, 78, 89, 98, [98, 867, 76]]\n",
      "89\n",
      "[98, 867, 76]\n",
      "76\n"
     ]
    }
   ],
   "source": [
    "ls = [12, 23, 34, 45,[ 67, 78, 89, 98, [98, 867, 76]], 56, [87]]\n",
    "\n",
    "print(ls[3])\n",
    "print(ls[4])\n",
    "print(ls[4][2])\n",
    "print(ls[4][4])\n",
    "print(ls[4][4][2])"
   ]
  },
  {
   "cell_type": "code",
   "execution_count": 25,
   "id": "3e9953c7-e972-4db5-b777-e113e3f56743",
   "metadata": {},
   "outputs": [
    {
     "name": "stdout",
     "output_type": "stream",
     "text": [
      "[12, 23, 34, 45, 56, 67]\n",
      "[12, 23, 'hello', 45, 56, 67]\n"
     ]
    }
   ],
   "source": [
    "# updation\n",
    "# --------\n",
    "\n",
    "ls = [12, 23, 34, 45, 56, 67]\n",
    "print(ls)\n",
    "ls[2] = \"hello\"\n",
    "print(ls)"
   ]
  },
  {
   "cell_type": "code",
   "execution_count": 35,
   "id": "1c1fae51-65c4-4605-aec6-7f61cc9a007e",
   "metadata": {},
   "outputs": [
    {
     "name": "stdout",
     "output_type": "stream",
     "text": [
      "[45, 56, 67, 78, 89]\n",
      "[12, 23, 34, 45, 56, 67, 78, 89]\n",
      "[45, 56, 67, 78, 89, 98, 87]\n",
      "[12, 23, 34, 45, 56, 67, 78, 89, 98, 87]\n"
     ]
    }
   ],
   "source": [
    "# slice operation \":\"\n",
    "\n",
    "ls = [12, 23, 34, 45, 56, 67, 78, 89, 98, 87]\n",
    "print(ls[3:8])\n",
    "print(ls[:8])\n",
    "print(ls[3:])\n",
    "print(ls[:])"
   ]
  },
  {
   "cell_type": "code",
   "execution_count": 37,
   "id": "5f73bdb5-98d0-4ba0-b479-ffe77fc2ea4c",
   "metadata": {},
   "outputs": [
    {
     "name": "stdout",
     "output_type": "stream",
     "text": [
      "[12, 23, 34, 'how', 'are', 'you', 78, 89, 98, 87]\n"
     ]
    }
   ],
   "source": [
    "ls[3:6] = [\"how\", \"are\", \"you\"]\n",
    "print(ls)"
   ]
  },
  {
   "cell_type": "code",
   "execution_count": 49,
   "id": "2399604a-1ed7-4bf7-a6e5-ccd4deed994c",
   "metadata": {},
   "outputs": [
    {
     "name": "stdout",
     "output_type": "stream",
     "text": [
      "[12, 23, 34, 45, 56, 67, 78, 89, 98, 87]\n",
      "[12, 23, 34, 56, 67, 78, 89, 98, 87]\n"
     ]
    }
   ],
   "source": [
    "# delete an element from the list \n",
    "# -------------------------------\n",
    "# del \n",
    "# pop\n",
    "# remove \n",
    "\n",
    "ls = [12, 23, 34, 45, 56, 67, 78, 89, 98, 87]\n",
    "print(ls)\n",
    "del ls[3]\n",
    "print(ls)"
   ]
  },
  {
   "cell_type": "code",
   "execution_count": 51,
   "id": "20fc157c-f8b6-416b-b4c3-950d2cd57552",
   "metadata": {},
   "outputs": [
    {
     "name": "stdout",
     "output_type": "stream",
     "text": [
      "[12, 23, 34, 56, 67, 78, 89, 98, 87]\n"
     ]
    }
   ],
   "source": [
    "# using pop\n",
    "\n",
    "ls = [12, 23, 34, 45, 56, 67, 78, 89, 98, 87]\n",
    "ls.pop(3)\n",
    "print(ls)"
   ]
  },
  {
   "cell_type": "code",
   "execution_count": 53,
   "id": "786616ad-e189-46af-9d21-3689b3477f55",
   "metadata": {},
   "outputs": [
    {
     "name": "stdout",
     "output_type": "stream",
     "text": [
      "[12, 23, 45, 56, 67, 78, 89, 98, 87]\n",
      "[12, 23, 45, 56, 67, 78, 89, 98]\n",
      "[12, 23, 45, 56, 67, 78, 89]\n",
      "[12, 23, 45, 56, 67, 78]\n"
     ]
    }
   ],
   "source": [
    "print(ls)\n",
    "ls.pop()\n",
    "print(ls)\n",
    "ls.pop()\n",
    "print(ls)\n",
    "ls.pop()\n",
    "print(ls)"
   ]
  },
  {
   "cell_type": "code",
   "execution_count": 65,
   "id": "822aebbe-3e44-406c-901a-985b655317bb",
   "metadata": {},
   "outputs": [
    {
     "name": "stdout",
     "output_type": "stream",
     "text": [
      "[12, 34, 45, 56, 67, 78, 89, 98, 87]\n"
     ]
    }
   ],
   "source": [
    "# remove \n",
    "\n",
    "ls = [12, 23, 34, 45, 56, 67, 78, 89, 98, 87]\n",
    "\n",
    "ls.remove(23)\n",
    "print(ls)"
   ]
  },
  {
   "cell_type": "code",
   "execution_count": 63,
   "id": "d0941fb2-1907-4775-b06c-91a05f107665",
   "metadata": {},
   "outputs": [
    {
     "name": "stdout",
     "output_type": "stream",
     "text": [
      "[12, 34, 45, 56, 67, 78, 89, 98, 87, 45]\n"
     ]
    }
   ],
   "source": [
    "# remove \n",
    "\n",
    "ls = [12, 23, 34, 45, 56, 67, 78, 89, 98, 87, 23, 45, 23]\n",
    "element = 23\n",
    "count = ls.count(element)\n",
    "\n",
    "for i in range(count):\n",
    "    ls.remove(element)\n",
    "\n",
    "print(ls)"
   ]
  },
  {
   "cell_type": "code",
   "execution_count": 1,
   "id": "3609e53e-9947-43a0-b451-0dca0a4b708c",
   "metadata": {},
   "outputs": [
    {
     "ename": "NameError",
     "evalue": "name 'ls' is not defined",
     "output_type": "error",
     "traceback": [
      "\u001b[1;31m---------------------------------------------------------------------------\u001b[0m",
      "\u001b[1;31mNameError\u001b[0m                                 Traceback (most recent call last)",
      "Cell \u001b[1;32mIn[1], line 1\u001b[0m\n\u001b[1;32m----> 1\u001b[0m \u001b[38;5;28;01mdel\u001b[39;00m ls \n\u001b[0;32m      2\u001b[0m \u001b[38;5;28mprint\u001b[39m(ls)\n",
      "\u001b[1;31mNameError\u001b[0m: name 'ls' is not defined"
     ]
    }
   ],
   "source": [
    "# del operator can delete any type of variable from the memory \n",
    "del ls \n",
    "print(ls)"
   ]
  },
  {
   "cell_type": "code",
   "execution_count": null,
   "id": "e392f623-91da-411d-b835-6abda2db12fa",
   "metadata": {},
   "outputs": [],
   "source": []
  }
 ],
 "metadata": {
  "kernelspec": {
   "display_name": "Python 3 (ipykernel)",
   "language": "python",
   "name": "python3"
  },
  "language_info": {
   "codemirror_mode": {
    "name": "ipython",
    "version": 3
   },
   "file_extension": ".py",
   "mimetype": "text/x-python",
   "name": "python",
   "nbconvert_exporter": "python",
   "pygments_lexer": "ipython3",
   "version": "3.12.4"
  }
 },
 "nbformat": 4,
 "nbformat_minor": 5
}
