{
 "cells": [
  {
   "cell_type": "code",
   "execution_count": 1,
   "id": "de0f7494-f40e-4096-9cd0-1466eccee2ec",
   "metadata": {},
   "outputs": [
    {
     "name": "stdout",
     "output_type": "stream",
     "text": [
      "[12, 23, 34, 45, 56]\n",
      "[12, 23, 34, 45, 56, 98]\n",
      "[12, 23, 34, 45, 56, 98, [87, 76, 65]]\n"
     ]
    }
   ],
   "source": [
    "ls = [12, 23, 34, 45, 56]\n",
    "print(ls)\n",
    "ls.append(98)\n",
    "print(ls)\n",
    "ls.append([87, 76, 65])\n",
    "print(ls)"
   ]
  },
  {
   "cell_type": "code",
   "execution_count": 7,
   "id": "0bc52b3f-07e9-4471-bf63-a9eddf64aa69",
   "metadata": {},
   "outputs": [
    {
     "name": "stdin",
     "output_type": "stream",
     "text": [
      "Enter a number:  1\n",
      "Enter a number:  2\n",
      "Enter a number:  3\n",
      "Enter a number:  4\n",
      "Enter a number:  5\n",
      "Enter a number:  6\n",
      "Enter a number:  7\n",
      "Enter a number:  8\n",
      "Enter a number:  9\n",
      "Enter a number:  0\n"
     ]
    },
    {
     "name": "stdout",
     "output_type": "stream",
     "text": [
      "[1, 2, 3, 4, 5, 6, 7, 8, 9, 0]\n"
     ]
    }
   ],
   "source": [
    "# make list of 10 elements of user's choice\n",
    "\n",
    "ls = []\n",
    "for i in range(10):\n",
    "    n = int(input(\"Enter a number: \"))\n",
    "    ls.append(n)\n",
    "\n",
    "print(ls)"
   ]
  },
  {
   "cell_type": "code",
   "execution_count": 11,
   "id": "42bbfb2f-2bbd-4302-bc2d-c364f14a0110",
   "metadata": {},
   "outputs": [
    {
     "name": "stdin",
     "output_type": "stream",
     "text": [
      "Enter a number:  1\n"
     ]
    },
    {
     "name": "stdout",
     "output_type": "stream",
     "text": [
      "[1]\n"
     ]
    },
    {
     "name": "stdin",
     "output_type": "stream",
     "text": [
      "Enter a number:  2\n"
     ]
    },
    {
     "name": "stdout",
     "output_type": "stream",
     "text": [
      "[1, 2]\n"
     ]
    },
    {
     "name": "stdin",
     "output_type": "stream",
     "text": [
      "Enter a number:  3\n"
     ]
    },
    {
     "name": "stdout",
     "output_type": "stream",
     "text": [
      "[1, 2, 3]\n"
     ]
    },
    {
     "name": "stdin",
     "output_type": "stream",
     "text": [
      "Enter a number:  4\n"
     ]
    },
    {
     "name": "stdout",
     "output_type": "stream",
     "text": [
      "[1, 2, 3, 4]\n"
     ]
    },
    {
     "name": "stdin",
     "output_type": "stream",
     "text": [
      "Enter a number:  5\n"
     ]
    },
    {
     "name": "stdout",
     "output_type": "stream",
     "text": [
      "[1, 2, 3, 4, 5]\n"
     ]
    },
    {
     "name": "stdin",
     "output_type": "stream",
     "text": [
      "Enter a number:  6\n"
     ]
    },
    {
     "name": "stdout",
     "output_type": "stream",
     "text": [
      "[1, 2, 3, 4, 5, 6]\n"
     ]
    },
    {
     "name": "stdin",
     "output_type": "stream",
     "text": [
      "Enter a number:  7\n"
     ]
    },
    {
     "name": "stdout",
     "output_type": "stream",
     "text": [
      "[1, 2, 3, 4, 5, 6, 7]\n"
     ]
    },
    {
     "name": "stdin",
     "output_type": "stream",
     "text": [
      "Enter a number:  8\n"
     ]
    },
    {
     "name": "stdout",
     "output_type": "stream",
     "text": [
      "[1, 2, 3, 4, 5, 6, 7, 8]\n"
     ]
    },
    {
     "name": "stdin",
     "output_type": "stream",
     "text": [
      "Enter a number:  9\n"
     ]
    },
    {
     "name": "stdout",
     "output_type": "stream",
     "text": [
      "[1, 2, 3, 4, 5, 6, 7, 8, 9]\n"
     ]
    },
    {
     "name": "stdin",
     "output_type": "stream",
     "text": [
      "Enter a number:  0\n"
     ]
    },
    {
     "name": "stdout",
     "output_type": "stream",
     "text": [
      "[1, 2, 3, 4, 5, 6, 7, 8, 9, 0]\n"
     ]
    }
   ],
   "source": [
    "# make list of 10 elements of user's choice\n",
    "\n",
    "ls = []\n",
    "for i in range(10):\n",
    "    n = int(input(\"Enter a number: \"))\n",
    "    ls.append(n)\n",
    "    print(ls)"
   ]
  },
  {
   "cell_type": "code",
   "execution_count": 15,
   "id": "7db39a5f-46e5-4aa1-8f62-246ebb94b5d3",
   "metadata": {},
   "outputs": [
    {
     "name": "stdin",
     "output_type": "stream",
     "text": [
      "Enter a number:  23\n",
      "Enter a number:  44\n",
      "Enter a number:  65\n",
      "Enter a number:  34\n",
      "Enter a number:  86\n",
      "Enter a number:  45\n",
      "Enter a number:  75\n",
      "Enter a number:  35\n",
      "Enter a number:  75\n",
      "Enter a number:  34\n"
     ]
    },
    {
     "name": "stdout",
     "output_type": "stream",
     "text": [
      "[23, 44, 65, 34, 86, 45, 75, 35, 75, 34]\n",
      "[44, 34, 86, 34]\n",
      "[23, 65, 45, 75, 35, 75]\n"
     ]
    }
   ],
   "source": [
    "# make seperate list of odd and even numbers from a list\n",
    "\n",
    "ls = []\n",
    "ls_even = []\n",
    "ls_odd = []\n",
    "for i in range(10):\n",
    "    n = int(input(\"Enter a number: \"))\n",
    "    ls.append(n)\n",
    "\n",
    "\n",
    "for i in ls:\n",
    "    if i % 2 == 0:\n",
    "        ls_even.append(i)\n",
    "    else:\n",
    "        ls_odd.append(i)\n",
    "\n",
    "\n",
    "print(ls)\n",
    "print(ls_even)\n",
    "print(ls_odd)"
   ]
  },
  {
   "cell_type": "code",
   "execution_count": 17,
   "id": "d9dbceda-ff5a-4d58-bf44-25032f5612a3",
   "metadata": {},
   "outputs": [
    {
     "name": "stdin",
     "output_type": "stream",
     "text": [
      "Enter a number:  34\n",
      "Enter a number:  22\n",
      "Enter a number:  34\n",
      "Enter a number:  56\n",
      "Enter a number:  32\n"
     ]
    },
    {
     "name": "stdout",
     "output_type": "stream",
     "text": [
      "The largest element is  56\n"
     ]
    }
   ],
   "source": [
    "# find largest element in the list \n",
    "\n",
    "ls = []\n",
    "\n",
    "for i in range(5):\n",
    "    n = int(input(\"Enter a number: \"))\n",
    "    ls.append(n)\n",
    "\n",
    "print(\"The largest element is\", max(ls))"
   ]
  },
  {
   "cell_type": "code",
   "execution_count": 21,
   "id": "f6cfe770-a1a7-4553-8a50-fc1af556fa7c",
   "metadata": {},
   "outputs": [
    {
     "name": "stdin",
     "output_type": "stream",
     "text": [
      "Enter a number:  34\n",
      "Enter a number:  543\n",
      "Enter a number:  554\n",
      "Enter a number:  32\n",
      "Enter a number:  445\n"
     ]
    },
    {
     "name": "stdout",
     "output_type": "stream",
     "text": [
      "The largest element is 554\n"
     ]
    }
   ],
   "source": [
    "# find largest element in the list \n",
    "\n",
    "ls = []\n",
    "for i in range(5):\n",
    "    n = int(input(\"Enter a number: \"))\n",
    "    ls.append(n)\n",
    "\n",
    "print(\"The largest element is\", max)"
   ]
  },
  {
   "cell_type": "code",
   "execution_count": 25,
   "id": "bafd4766-2fd6-461f-aa2b-44cf8a97a5f3",
   "metadata": {},
   "outputs": [
    {
     "name": "stdin",
     "output_type": "stream",
     "text": [
      "Enter a number:  324\n",
      "Enter a number:  543\n",
      "Enter a number:  232\n",
      "Enter a number:  54\n",
      "Enter a number:  12\n"
     ]
    },
    {
     "name": "stdout",
     "output_type": "stream",
     "text": [
      "Largest element is 543\n"
     ]
    }
   ],
   "source": [
    "# find largest element in the list \n",
    "\n",
    "ls = []\n",
    "for i in range(5):\n",
    "    n = int(input(\"Enter a number: \"))\n",
    "    ls.append(n)\n",
    "\n",
    "big = ls[0]\n",
    "\n",
    "for i in ls:\n",
    "    if i > big:\n",
    "        big = i\n",
    "\n",
    "print(\"Largest element is\", big)\n"
   ]
  },
  {
   "cell_type": "code",
   "execution_count": 27,
   "id": "ea287cb8-6814-421c-a0c7-477ba6badeac",
   "metadata": {},
   "outputs": [
    {
     "name": "stdin",
     "output_type": "stream",
     "text": [
      "Enter a number:  1\n",
      "Enter a number:  2\n",
      "Enter a number:  3\n",
      "Enter a number:  4\n",
      "Enter a number:  2\n"
     ]
    },
    {
     "name": "stdout",
     "output_type": "stream",
     "text": [
      "2\n"
     ]
    }
   ],
   "source": [
    "# find largest element in the list \n",
    "def big(l):\n",
    "    big = l[0]\n",
    "    for i in l:\n",
    "        if big < i:\n",
    "            big = i\n",
    "    return i\n",
    "\n",
    "\n",
    "\n",
    "ls = []\n",
    "for i in range(5):\n",
    "    n = int(input(\"Enter a number: \"))\n",
    "    ls.append(n)\n",
    "\n",
    "print(big(ls))\n"
   ]
  },
  {
   "cell_type": "code",
   "execution_count": 29,
   "id": "d691d612-0910-4c4f-b7c0-a077c5fded7e",
   "metadata": {},
   "outputs": [
    {
     "name": "stdin",
     "output_type": "stream",
     "text": [
      "Enter a number:  2\n",
      "Enter a number:  3\n",
      "Enter a number:  4\n",
      "Enter a number:  2\n",
      "Enter a number:  3\n"
     ]
    },
    {
     "name": "stdout",
     "output_type": "stream",
     "text": [
      "Largest element is 2\n"
     ]
    }
   ],
   "source": [
    "# find largest element in the list \n",
    "\n",
    "ls = []\n",
    "for i in range(5):\n",
    "    n = int(input(\"Enter a number: \"))\n",
    "    ls.append(n)\n",
    "\n",
    "small = ls[0]\n",
    "\n",
    "for i in ls:\n",
    "    if i < small:\n",
    "        small = i\n",
    "\n",
    "print(\"Smallest element is\", small)\n"
   ]
  },
  {
   "cell_type": "code",
   "execution_count": 31,
   "id": "92816df2-59e9-4f7a-af48-cf5dce9804bc",
   "metadata": {},
   "outputs": [
    {
     "name": "stdin",
     "output_type": "stream",
     "text": [
      "Enter a number:  12\n",
      "Enter a number:  32\n",
      "Enter a number:  42\n",
      "Enter a number:  42\n",
      "Enter a number:  4\n"
     ]
    },
    {
     "name": "stdout",
     "output_type": "stream",
     "text": [
      "Smallest element is 4\n",
      "Largest element is 42\n"
     ]
    }
   ],
   "source": [
    "# find largest element in the list \n",
    "\n",
    "ls = []\n",
    "for i in range(5):\n",
    "    n = int(input(\"Enter a number: \"))\n",
    "    ls.append(n)\n",
    "\n",
    "small = ls[0]\n",
    "big = small\n",
    "for i in ls:\n",
    "    if i < small:\n",
    "        small = i\n",
    "    if i > big:\n",
    "        big = i\n",
    "\n",
    "print(\"Smallest element is\", small)\n",
    "print(\"Largest element is\", big)\n"
   ]
  },
  {
   "cell_type": "code",
   "execution_count": 33,
   "id": "e0e62165-80f2-4c75-9a00-6e7c2d6eea01",
   "metadata": {},
   "outputs": [
    {
     "name": "stdout",
     "output_type": "stream",
     "text": [
      "[12, 23, 34, 45, 56, 67]\n",
      "[12, 23, 34, 45, 56, 67, 98, 87, 65]\n"
     ]
    }
   ],
   "source": [
    "ls = [12, 23, 34, 45, 56, 67]\n",
    "print(ls)\n",
    "ls.extend([98, 87, 65])\n",
    "print(ls) "
   ]
  },
  {
   "cell_type": "code",
   "execution_count": null,
   "id": "23c425c3-69bf-439e-bb3b-09eab0ce02a5",
   "metadata": {},
   "outputs": [],
   "source": []
  }
 ],
 "metadata": {
  "kernelspec": {
   "display_name": "Python 3 (ipykernel)",
   "language": "python",
   "name": "python3"
  },
  "language_info": {
   "codemirror_mode": {
    "name": "ipython",
    "version": 3
   },
   "file_extension": ".py",
   "mimetype": "text/x-python",
   "name": "python",
   "nbconvert_exporter": "python",
   "pygments_lexer": "ipython3",
   "version": "3.12.4"
  }
 },
 "nbformat": 4,
 "nbformat_minor": 5
}
